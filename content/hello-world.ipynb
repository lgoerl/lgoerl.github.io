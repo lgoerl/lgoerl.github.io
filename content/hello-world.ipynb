{
 "cells": [
  {
   "cell_type": "markdown",
   "metadata": {},
   "source": [
    "## Hello World!\n",
    "<br>\n",
    "\n",
    "If you haven't gathered from the ubiquitious title, this is my first post.\n",
    "\n",
    "I hope to use this blog to write about my professional journey, as I make the transition from my previous life in academia to the private sector-- and the world of data science-- and the inevitable personal life events and reflection that happens in between."
   ]
  }
 ],
 "metadata": {
  "kernelspec": {
   "display_name": "Python 2",
   "language": "python",
   "name": "python2"
  },
  "language_info": {
   "codemirror_mode": {
    "name": "ipython",
    "version": 2
   },
   "file_extension": ".py",
   "mimetype": "text/x-python",
   "name": "python",
   "nbconvert_exporter": "python",
   "pygments_lexer": "ipython2",
   "version": "2.7.12"
  }
 },
 "nbformat": 4,
 "nbformat_minor": 2
}
